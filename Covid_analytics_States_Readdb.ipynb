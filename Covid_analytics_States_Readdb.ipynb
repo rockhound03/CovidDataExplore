{
 "cells": [
  {
   "cell_type": "code",
   "execution_count": 13,
   "metadata": {},
   "outputs": [],
   "source": [
    "%matplotlib inline\n",
    "from matplotlib import style\n",
    "style.use('fivethirtyeight')\n",
    "import matplotlib.pyplot as plt"
   ]
  },
  {
   "cell_type": "code",
   "execution_count": 2,
   "metadata": {},
   "outputs": [],
   "source": [
    "# Python SQL toolkit and Object Relational Mapper\n",
    "import sqlalchemy\n",
    "from sqlalchemy.ext.automap import automap_base\n",
    "from sqlalchemy.orm import Session\n",
    "from sqlalchemy import create_engine, func, desc\n",
    "\n",
    "import datetime as dt"
   ]
  },
  {
   "cell_type": "code",
   "execution_count": 3,
   "metadata": {
    "nbgrader": {
     "grade": false,
     "grade_id": "cell-70673a582be08b2b",
     "locked": false,
     "schema_version": 1,
     "solution": true
    }
   },
   "outputs": [],
   "source": [
    "# Create engine using the `demographics.sqlite` database file\n",
    "engine = create_engine(\"sqlite:///coviddata.sqlite\")"
   ]
  },
  {
   "cell_type": "code",
   "execution_count": 4,
   "metadata": {
    "nbgrader": {
     "grade": false,
     "grade_id": "cell-41aa0b6e080b0fc3",
     "locked": false,
     "schema_version": 1,
     "solution": true
    }
   },
   "outputs": [],
   "source": [
    "# Declare a Base using `automap_base()`\n",
    "Base = automap_base()"
   ]
  },
  {
   "cell_type": "code",
   "execution_count": 5,
   "metadata": {
    "nbgrader": {
     "grade": false,
     "grade_id": "cell-6bfc53d06684937a",
     "locked": false,
     "schema_version": 1,
     "solution": true
    }
   },
   "outputs": [],
   "source": [
    "# Use the Base class to reflect the database tables\n",
    "Base.prepare(engine, reflect=True)"
   ]
  },
  {
   "cell_type": "code",
   "execution_count": 6,
   "metadata": {
    "nbgrader": {
     "grade": false,
     "grade_id": "cell-ed6e858f1d08dd99",
     "locked": false,
     "schema_version": 1,
     "solution": true
    }
   },
   "outputs": [
    {
     "data": {
      "text/plain": [
       "['location']"
      ]
     },
     "execution_count": 6,
     "metadata": {},
     "output_type": "execute_result"
    }
   ],
   "source": [
    "# Print all of the classes mapped to the Base\n",
    "Base.classes.keys()"
   ]
  },
  {
   "cell_type": "code",
   "execution_count": 7,
   "metadata": {
    "nbgrader": {
     "grade": false,
     "grade_id": "cell-8efa4b315fdfc079",
     "locked": false,
     "schema_version": 1,
     "solution": true
    }
   },
   "outputs": [],
   "source": [
    "# Assign the demographics class to a variable called `Demographics`\n",
    "Demographics = Base.classes.location"
   ]
  },
  {
   "cell_type": "code",
   "execution_count": 8,
   "metadata": {
    "nbgrader": {
     "grade": false,
     "grade_id": "cell-490b4263c4872970",
     "locked": false,
     "schema_version": 1,
     "solution": true
    }
   },
   "outputs": [],
   "source": [
    "# Create a session\n",
    "session = Session(engine)"
   ]
  },
  {
   "cell_type": "code",
   "execution_count": 9,
   "metadata": {
    "nbgrader": {
     "grade": false,
     "grade_id": "cell-9ec67a4806a1b9d2",
     "locked": false,
     "schema_version": 1,
     "solution": true
    }
   },
   "outputs": [
    {
     "name": "stdout",
     "output_type": "stream",
     "text": [
      "(<sqlalchemy.ext.automap.location object at 0x000002BFDAE8DE80>, 'Washington')\n",
      "(<sqlalchemy.ext.automap.location object at 0x000002BFDAE8DEF0>, 'Washington')\n",
      "(<sqlalchemy.ext.automap.location object at 0x000002BFDAE8DF60>, 'Washington')\n",
      "(<sqlalchemy.ext.automap.location object at 0x000002BFDAE8DFD0>, 'Illinois')\n",
      "(<sqlalchemy.ext.automap.location object at 0x000002BFDAEA6080>, 'Washington')\n"
     ]
    }
   ],
   "source": [
    "# Use the session to query Demographics table and display the first 5 locations\n",
    "for row in session.query(Demographics, Demographics.state_name).limit(5).all():\n",
    "    print(row)"
   ]
  },
  {
   "cell_type": "code",
   "execution_count": 10,
   "metadata": {
    "nbgrader": {
     "grade": false,
     "grade_id": "cell-48bb7af3e19c67ac",
     "locked": false,
     "schema_version": 1,
     "solution": true
    }
   },
   "outputs": [
    {
     "name": "stdout",
     "output_type": "stream",
     "text": [
      "55\n"
     ]
    }
   ],
   "source": [
    "# BONUS: Query and print the number of unique Locations\n",
    "# Hints: Look into counting and grouping operations in SQLAlchemy\n",
    "locations = session.query(Demographics).group_by(Demographics.state_name).count()\n",
    "print(locations)"
   ]
  },
  {
   "cell_type": "code",
   "execution_count": 11,
   "metadata": {},
   "outputs": [],
   "source": [
    "#test = session.execute(\"SELECT * FROM location WHERE city_name=Illinois\")\n",
    "city_test = session.query(Demographics.date,Demographics.state_name,Demographics.cases).\\\n",
    "filter(Demographics.state_name == \"Illinois\")#.\\\n",
    "#order_by(Measurement.date).all()\n"
   ]
  },
  {
   "cell_type": "code",
   "execution_count": 12,
   "metadata": {},
   "outputs": [
    {
     "name": "stdout",
     "output_type": "stream",
     "text": [
      "('2020-01-24', 'Illinois', 1)\n",
      "('2020-01-25', 'Illinois', 1)\n",
      "('2020-01-26', 'Illinois', 1)\n",
      "('2020-01-27', 'Illinois', 1)\n",
      "('2020-01-28', 'Illinois', 1)\n",
      "('2020-01-29', 'Illinois', 1)\n",
      "('2020-01-30', 'Illinois', 2)\n",
      "('2020-01-31', 'Illinois', 2)\n",
      "('2020-02-01', 'Illinois', 2)\n",
      "('2020-02-02', 'Illinois', 2)\n",
      "('2020-02-03', 'Illinois', 2)\n",
      "('2020-02-04', 'Illinois', 2)\n",
      "('2020-02-05', 'Illinois', 2)\n",
      "('2020-02-06', 'Illinois', 2)\n",
      "('2020-02-07', 'Illinois', 2)\n",
      "('2020-02-08', 'Illinois', 2)\n",
      "('2020-02-09', 'Illinois', 2)\n",
      "('2020-02-10', 'Illinois', 2)\n",
      "('2020-02-11', 'Illinois', 2)\n",
      "('2020-02-12', 'Illinois', 2)\n",
      "('2020-02-13', 'Illinois', 2)\n",
      "('2020-02-14', 'Illinois', 2)\n",
      "('2020-02-15', 'Illinois', 2)\n",
      "('2020-02-16', 'Illinois', 2)\n",
      "('2020-02-17', 'Illinois', 2)\n",
      "('2020-02-18', 'Illinois', 2)\n",
      "('2020-02-19', 'Illinois', 2)\n",
      "('2020-02-20', 'Illinois', 2)\n",
      "('2020-02-21', 'Illinois', 2)\n",
      "('2020-02-22', 'Illinois', 2)\n",
      "('2020-02-23', 'Illinois', 2)\n",
      "('2020-02-24', 'Illinois', 2)\n",
      "('2020-02-25', 'Illinois', 2)\n",
      "('2020-02-26', 'Illinois', 2)\n",
      "('2020-02-27', 'Illinois', 2)\n",
      "('2020-02-28', 'Illinois', 2)\n",
      "('2020-02-29', 'Illinois', 3)\n",
      "('2020-03-01', 'Illinois', 3)\n",
      "('2020-03-02', 'Illinois', 4)\n",
      "('2020-03-03', 'Illinois', 4)\n",
      "('2020-03-04', 'Illinois', 4)\n",
      "('2020-03-05', 'Illinois', 5)\n",
      "('2020-03-06', 'Illinois', 6)\n",
      "('2020-03-07', 'Illinois', 6)\n",
      "('2020-03-08', 'Illinois', 7)\n",
      "('2020-03-09', 'Illinois', 11)\n",
      "('2020-03-10', 'Illinois', 19)\n",
      "('2020-03-11', 'Illinois', 25)\n",
      "('2020-03-12', 'Illinois', 32)\n",
      "('2020-03-13', 'Illinois', 46)\n",
      "('2020-03-14', 'Illinois', 66)\n",
      "('2020-03-15', 'Illinois', 94)\n",
      "('2020-03-16', 'Illinois', 104)\n",
      "('2020-03-17', 'Illinois', 159)\n",
      "('2020-03-18', 'Illinois', 286)\n",
      "('2020-03-19', 'Illinois', 420)\n",
      "('2020-03-20', 'Illinois', 583)\n",
      "('2020-03-21', 'Illinois', 751)\n",
      "('2020-03-22', 'Illinois', 1047)\n",
      "('2020-03-23', 'Illinois', 1285)\n",
      "('2020-03-24', 'Illinois', 1535)\n",
      "('2020-03-25', 'Illinois', 1875)\n",
      "('2020-03-26', 'Illinois', 2538)\n",
      "('2020-03-27', 'Illinois', 3029)\n",
      "('2020-03-28', 'Illinois', 3547)\n",
      "('2020-03-29', 'Illinois', 4613)\n",
      "('2020-03-30', 'Illinois', 5070)\n",
      "('2020-03-31', 'Illinois', 5994)\n",
      "('2020-04-01', 'Illinois', 6980)\n",
      "('2020-04-02', 'Illinois', 7695)\n",
      "('2020-04-03', 'Illinois', 8904)\n",
      "('2020-04-04', 'Illinois', 10357)\n"
     ]
    }
   ],
   "source": [
    "for row in city_test:\n",
    "    print(row)"
   ]
  },
  {
   "cell_type": "code",
   "execution_count": null,
   "metadata": {},
   "outputs": [],
   "source": []
  }
 ],
 "metadata": {
  "celltoolbar": "Create Assignment",
  "kernelspec": {
   "display_name": "Python 3",
   "language": "python",
   "name": "python3"
  },
  "language_info": {
   "codemirror_mode": {
    "name": "ipython",
    "version": 3
   },
   "file_extension": ".py",
   "mimetype": "text/x-python",
   "name": "python",
   "nbconvert_exporter": "python",
   "pygments_lexer": "ipython3",
   "version": "3.6.9"
  },
  "varInspector": {
   "cols": {
    "lenName": 16,
    "lenType": 16,
    "lenVar": 40
   },
   "kernels_config": {
    "python": {
     "delete_cmd_postfix": "",
     "delete_cmd_prefix": "del ",
     "library": "var_list.py",
     "varRefreshCmd": "print(var_dic_list())"
    },
    "r": {
     "delete_cmd_postfix": ") ",
     "delete_cmd_prefix": "rm(",
     "library": "var_list.r",
     "varRefreshCmd": "cat(var_dic_list()) "
    }
   },
   "types_to_exclude": [
    "module",
    "function",
    "builtin_function_or_method",
    "instance",
    "_Feature"
   ],
   "window_display": false
  }
 },
 "nbformat": 4,
 "nbformat_minor": 2
}
